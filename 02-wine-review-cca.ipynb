{
 "cells": [
  {
   "cell_type": "code",
   "execution_count": 1,
   "metadata": {},
   "outputs": [],
   "source": [
    "import re\n",
    "import numpy as np\n",
    "import pandas as pd\n",
    "from scipy import linalg as LA\n",
    "from matplotlib import pyplot as plt\n",
    "\n",
    "WORD_FREQ_THRESHOLD = 5 # Min numbers of appearences to show in bag of words\n",
    "\n",
    "# Load data\n",
    "df = pd.read_csv('winemag-data-130k-v2.csv', index_col=0)\n",
    "# We used the columns taster_name, points, and description, therefore we clean out the nans\n",
    "df.dropna(subset=['taster_name','points','description'], inplace=True)\n",
    "df_use = df.loc[df['taster_name'] == 'Alexander Peartree']\n",
    "X_raw = df_use[\"description\"].values\n",
    "Y_raw = df_use[\"points\"].values"
   ]
  },
  {
   "cell_type": "markdown",
   "metadata": {},
   "source": [
    "# Data Preprocessing"
   ]
  },
  {
   "cell_type": "code",
   "execution_count": 2,
   "metadata": {},
   "outputs": [],
   "source": [
    "# Preprocess Y (easy)\n",
    "Y = Y_raw.reshape(-1, 1)\n",
    "\n",
    "# Preprocess X into Bag of Words representation\n",
    "regex = re.compile('[^a-zA-Z \\-]') # Normalize to just a-z\n",
    "X_pp = [regex.sub('', x_i).lower() for x_i in X_raw] # X as list of sentences\n",
    "X_ary = [x_i.split(' ') for x_i in X_pp] # X as list of list of words\n",
    "X_corpus = ' '.join(X_pp) # X as one long string\n",
    "\n",
    "\n",
    "illegal_words = [''] # Words to remove from vocab\n",
    "words = list(filter(lambda w: w not in illegal_words, X_corpus.split(\" \"))) # vocab\n",
    "\n",
    "# Get word frequencies\n",
    "freqs = {}\n",
    "for token in words:\n",
    "    if token not in freqs:\n",
    "        freqs[token] = 0\n",
    "    freqs[token] += 1\n",
    "\n",
    "# Get sorted list of vocab in reverse order\n",
    "freqs_sorted = list(reversed(sorted([(k, v) for k, v in freqs.items()], key=lambda x: x[1])))\n",
    "\n",
    "# Remove rare words from vocab\n",
    "top_freqs = list(filter(lambda x: x[1] > WORD_FREQ_THRESHOLD, freqs_sorted))\n",
    "\n",
    "# Assign index to each word in vocab\n",
    "word_to_idx = dict(zip(map(lambda x: x[0], top_freqs), range(len(top_freqs))))\n",
    "\n",
    "# Build matrix of rows: sentence in Y, cols: word in vocab\n",
    "X = np.zeros((len(X_ary), len(top_freqs)))\n",
    "for s_i in range(len(X_ary)):\n",
    "    for w in X_ary[s_i]:\n",
    "        if w in word_to_idx:\n",
    "            X[s_i, word_to_idx[w]] += 1"
   ]
  },
  {
   "cell_type": "code",
   "execution_count": 3,
   "metadata": {},
   "outputs": [
    {
     "data": {
      "text/plain": [
       "((415, 421), (415, 1))"
      ]
     },
     "execution_count": 3,
     "metadata": {},
     "output_type": "execute_result"
    }
   ],
   "source": [
    "X.shape, Y.shape"
   ]
  },
  {
   "cell_type": "markdown",
   "metadata": {},
   "source": [
    "# Kernel Functions"
   ]
  },
  {
   "cell_type": "code",
   "execution_count": 4,
   "metadata": {},
   "outputs": [],
   "source": [
    "class TFIDF():\n",
    "    def __init__(self, X):\n",
    "        self.shape = X.shape\n",
    "        self.N, self.V = self.shape\n",
    "        self.X = X\n",
    "        self.tf_idf = self._tf_idf()\n",
    "        \n",
    "        print(self.N, \"Documents.\", self.V, \"Words (with rare words removed).\")\n",
    "    \n",
    "    def _tf(self, x_ij):\n",
    "        \"\"\"Return the term frequency for a word in a document\"\"\"\n",
    "        return np.log(1 + x_ij)\n",
    "    \n",
    "    def _idf(self, j):\n",
    "        \"\"\"Return the inverse document frequency for a given word\"\"\"\n",
    "        return np.log(self.N / (1 + np.sum(self.X[:, j] > 0)))\n",
    "    \n",
    "    def _tf_idf_row(self, x_i):\n",
    "        \"\"\"Return the TF-IDF for a given document\"\"\"\n",
    "        ret = np.zeros([self.V])\n",
    "        for j in range(self.V):\n",
    "            ret[j] = self._tf(x_i[j]) * self._idf(j)\n",
    "        return ret\n",
    "    \n",
    "    def _tf_idf(self):\n",
    "        \"\"\"Return the TF-IDF for every document in X\"\"\"\n",
    "        ret = np.zeros([self.N, self.V])\n",
    "        for i in range(self.N):\n",
    "            ret[i, :] = self._tf_idf_row(self.X[i])\n",
    "        return ret\n",
    "    \n",
    "    def __getitem__(self, i):\n",
    "        return self.tf_idf[i]\n",
    "    \n",
    "    def kernel(self, phi_x_i1, phi_x_i2):\n",
    "        ret = (phi_x_i1.T @ phi_x_i2)\n",
    "        return ret / (LA.norm(phi_x_i1) * LA.norm(phi_x_i2))\n",
    "    \n",
    "    def gram(self):\n",
    "        K = np.zeros([self.N, self.N])\n",
    "        for i1 in range(self.N):\n",
    "            for i2 in range(self.N):\n",
    "                K[i1, i2] = self.kernel(self[i1], self[i2])\n",
    "        return K"
   ]
  },
  {
   "cell_type": "code",
   "execution_count": 5,
   "metadata": {},
   "outputs": [],
   "source": [
    "def get_linear_gram(Y):\n",
    "    N = Y.shape[0]\n",
    "    L = np.zeros([N, N])\n",
    "    for i1 in range(N):\n",
    "        for i2 in range(N):\n",
    "            L[i1, i2] = Y[i1].dot(Y[i2])\n",
    "    return L"
   ]
  },
  {
   "cell_type": "markdown",
   "metadata": {},
   "source": [
    "# Kernel CCA"
   ]
  },
  {
   "cell_type": "code",
   "execution_count": 6,
   "metadata": {},
   "outputs": [],
   "source": [
    "def kernel_cca(X, Y, reg=1e-5):\n",
    "    K = TFIDF(X).gram()\n",
    "    L = get_linear_gram(Y)\n",
    "    \n",
    "    \n",
    "    N = K.shape[0]\n",
    "    H = np.eye(N) - (1 / N * np.ones(N))\n",
    "    Z = np.zeros([N, N])\n",
    "    \n",
    "    Kt = H @ K @ H\n",
    "    Lt = H @ L @ H\n",
    "    \n",
    "    A1 = np.r_['1', Z, K @ L]\n",
    "    A2 = np.r_['1', L @ K, Z]\n",
    "    A = np.r_[A1, A2]\n",
    "    \n",
    "    B1 = np.r_['1', (K@K + (reg*np.eye(N)) * K), Z]\n",
    "    B2 = np.r_['1', Z, (L@L + (reg*np.eye(N)) * L)]\n",
    "    B = np.r_[B1, B2]\n",
    "    \n",
    "    eig_vals, eig_vecs = LA.eig(A, B)\n",
    "    eig_vals = np.real(eig_vals)\n",
    "    eig_vecs = np.real(eig_vecs)\n",
    "    \n",
    "    max_idx = np.argmax(eig_vals)\n",
    "    max_vec = eig_vecs[:, max_idx].reshape(2*N, 1)\n",
    "    \n",
    "    max_vec = max_vec / LA.norm(max_vec)\n",
    "    \n",
    "    alpha = max_vec[:N]\n",
    "    beta = max_vec[N:]\n",
    "    \n",
    "    return alpha, beta, K, L"
   ]
  },
  {
   "cell_type": "markdown",
   "metadata": {},
   "source": [
    "## Results\n",
    "\n",
    "The cell below gives what we feel is the optimal result given the data."
   ]
  },
  {
   "cell_type": "code",
   "execution_count": 7,
   "metadata": {},
   "outputs": [
    {
     "name": "stdout",
     "output_type": "stream",
     "text": [
      "415 Documents. 421 Words (with rare words removed).\n",
      "Correlation Coeff: 0.9657311846882887\n"
     ]
    },
    {
     "data": {
      "image/png": "[encoded data removed]",
      "text/plain": [
       "<Figure size 432x288 with 1 Axes>"
      ]
     },
     "metadata": {
      "needs_background": "light"
     },
     "output_type": "display_data"
    }
   ],
   "source": [
    "alpha, beta, K, L = kernel_cca(X, Y, reg=1e-5)\n",
    "\n",
    "X_proj = alpha.T @ K\n",
    "Y_proj = beta.T @ L\n",
    "\n",
    "print(\"Correlation Coeff:\", np.corrcoef(X_proj, Y_proj)[0, 1])\n",
    "plt.plot(Y_proj, X_proj, 'bx')\n",
    "plt.title(\"Projections with suitable regularizer of 1e-5\")\n",
    "plt.ylabel(\"Projection of X\")\n",
    "plt.xlabel(\"Projection of Y\")\n",
    "plt.show()"
   ]
  },
  {
   "cell_type": "markdown",
   "metadata": {},
   "source": [
    "Although we found higher correlation coefficients when using smaller regularization terms, we feel as though this is not a good representation of the data due to its sparse nature.\n",
    "\n",
    "Below you can see that the we are reaching a high correlation near 1 which indicates that we have a projection with no components orthagonal to the feature space."
   ]
  },
  {
   "cell_type": "code",
   "execution_count": 8,
   "metadata": {},
   "outputs": [
    {
     "name": "stdout",
     "output_type": "stream",
     "text": [
      "415 Documents. 421 Words (with rare words removed).\n",
      "Correlation Coeff: 0.9999821524663274\n"
     ]
    },
    {
     "data": {
      "image/png": "[encoded data removed]",
      "text/plain": [
       "<Figure size 432x288 with 1 Axes>"
      ]
     },
     "metadata": {
      "needs_background": "light"
     },
     "output_type": "display_data"
    }
   ],
   "source": [
    "alpha, beta, K, L = kernel_cca(X, Y, reg=1e-7)\n",
    "\n",
    "X_proj = alpha.T @ K\n",
    "Y_proj = beta.T @ L\n",
    "\n",
    "print(\"Correlation Coeff:\", np.corrcoef(X_proj, Y_proj)[0, 1])\n",
    "plt.plot(Y_proj, X_proj, 'rx')\n",
    "plt.title(\"Projections with small regularizer of 1e-7\")\n",
    "plt.ylabel(\"Projection of X\")\n",
    "plt.xlabel(\"Projection of Y\")\n",
    "plt.show()"
   ]
  },
  {
   "cell_type": "code",
   "execution_count": null,
   "metadata": {},
   "outputs": [],
   "source": []
  }
 ],
 "metadata": {
  "kernelspec": {
   "display_name": "Python 3",
   "language": "python",
   "name": "python3"
  },
  "language_info": {
   "codemirror_mode": {
    "name": "ipython",
    "version": 3
   },
   "file_extension": ".py",
   "mimetype": "text/x-python",
   "name": "python",
   "nbconvert_exporter": "python",
   "pygments_lexer": "ipython3",
   "version": "3.7.9"
  }
 },
 "nbformat": 4,
 "nbformat_minor": 4
}
